{
 "cells": [
  {
   "cell_type": "code",
   "execution_count": 1,
   "id": "6195bd9e",
   "metadata": {},
   "outputs": [
    {
     "data": {
      "text/plain": [
       "'1.4.22'"
      ]
     },
     "execution_count": 1,
     "metadata": {},
     "output_type": "execute_result"
    }
   ],
   "source": [
    "import sqlalchemy\n",
    "sqlalchemy.__version__"
   ]
  },
  {
   "cell_type": "code",
   "execution_count": 2,
   "id": "315dac6e",
   "metadata": {},
   "outputs": [],
   "source": [
    "from sqlalchemy import create_engine, Sequence"
   ]
  },
  {
   "cell_type": "code",
   "execution_count": 3,
   "id": "a43235a3",
   "metadata": {},
   "outputs": [],
   "source": [
    "# the return value of create_engine() is an instance of Engine, and it represents the core interface to the db, \n",
    "# engine = create_engine('sqlite:///demographics.sqlite')\n",
    "engine = create_engine('sqlite:///:memory:', echo=True)"
   ]
  },
  {
   "cell_type": "markdown",
   "id": "54061e97",
   "metadata": {},
   "source": [
    "#### Lazy connceting\n",
    "- the engine, when first returned by create_engine(), has not actually tried to connect to the db; that happens only the first time it is asked to perform a task against the db.\n",
    "\n",
    "- the first time a method like Engine.execute() or Engine.connect() is called, the Engine establishes a real DBAPI connection to the db, which is then used to emit the SQL. When using the ORM, we typically don't use the engine directly once created; instead, it is used behind the scenes by the ORM. "
   ]
  },
  {
   "cell_type": "markdown",
   "id": "55b4e13b",
   "metadata": {},
   "source": [
    "#### declare a mapping\n",
    "\n",
    "- when using the ORM, the configurational process starts by describing the db, and then by defining our classes which will be mapped to those tables.\n",
    "- classes mapped using the Declarative system are defined in terms of a base class which maintains a catalog of classes and tables relative to that base - **declarative base class**"
   ]
  },
  {
   "cell_type": "code",
   "execution_count": 4,
   "id": "0bfdf96f",
   "metadata": {},
   "outputs": [],
   "source": [
    "from sqlalchemy.orm import declarative_base"
   ]
  },
  {
   "cell_type": "code",
   "execution_count": 5,
   "id": "a954bfe1",
   "metadata": {},
   "outputs": [],
   "source": [
    "Base = declarative_base()"
   ]
  },
  {
   "cell_type": "markdown",
   "id": "64645698",
   "metadata": {},
   "source": [
    "- we start with a single table called users, which will store records for the end-users using our application. \n",
    "- a new class called _Use_ will be the class to which we map this table. \n",
    "- within the class, we define details about the table to which we will be mapping, primarily the table name, and names and datatypes of columns"
   ]
  },
  {
   "cell_type": "code",
   "execution_count": 6,
   "id": "e2dda78d",
   "metadata": {},
   "outputs": [],
   "source": [
    "from sqlalchemy import Column, Integer, String"
   ]
  },
  {
   "cell_type": "code",
   "execution_count": 7,
   "id": "73e56eef",
   "metadata": {},
   "outputs": [],
   "source": [
    "class User(Base):\n",
    "    __tablename__ = 'users'\n",
    "    \n",
    "    id = Column(Integer, Sequence('user_id_seq'), primary_key=True)\n",
    "    name = Column(String)\n",
    "    fullname = Column(String)\n",
    "    nickname = Column(String)\n",
    "    \n",
    "    \n",
    "    def __rep__(self):\n",
    "        return \"<User(name='%s', fullname='%s', nickname='%s')>\" %(self.name, self.fullname, self.nickname)"
   ]
  },
  {
   "cell_type": "markdown",
   "id": "09f7cef2",
   "metadata": {},
   "source": [
    "### create a Schema\n",
    "\n",
    "- with the _User_ class constructed via the Declarative system, we have defined information about the table - _**table metadata**_\n",
    "\n",
    "- the object used by SQLAlchemy to represent this information for a specific table is called the **Table** boject"
   ]
  },
  {
   "cell_type": "code",
   "execution_count": 8,
   "id": "2f477c77",
   "metadata": {},
   "outputs": [
    {
     "data": {
      "text/plain": [
       "Table('users', MetaData(), Column('id', Integer(), table=<users>, primary_key=True, nullable=False, default=Sequence('user_id_seq', metadata=MetaData())), Column('name', String(), table=<users>), Column('fullname', String(), table=<users>), Column('nickname', String(), table=<users>), schema=None)"
      ]
     },
     "execution_count": 8,
     "metadata": {},
     "output_type": "execute_result"
    }
   ],
   "source": [
    "User.__table__"
   ]
  },
  {
   "cell_type": "markdown",
   "id": "9698437d",
   "metadata": {},
   "source": [
    "- when we declared our class, Declarative used a Python metaclass in order to perform additional activities once the class declaration was complette; within this phase, it then created a **Table** object according to our specifications, and associated it with the class by constructing a **Mapper** object. This object is a bts object we normally don't need to deal with directly\n",
    "\n",
    "- the Table object is a member of a larger collection known as **Metadata**. When useing Declarative, this object is available using the .metadata attribute of our declarative base class.\n",
    "\n",
    "- we can use Metadata to issue CREATE TABLE statements to the dbfor all tables that don't yet exist. "
   ]
  },
  {
   "cell_type": "code",
   "execution_count": 9,
   "id": "f0720f80",
   "metadata": {},
   "outputs": [
    {
     "name": "stdout",
     "output_type": "stream",
     "text": [
      "2022-05-12 16:18:38,079 INFO sqlalchemy.engine.Engine BEGIN (implicit)\n",
      "2022-05-12 16:18:38,079 INFO sqlalchemy.engine.Engine PRAGMA main.table_info(\"users\")\n",
      "2022-05-12 16:18:38,080 INFO sqlalchemy.engine.Engine [raw sql] ()\n",
      "2022-05-12 16:18:38,080 INFO sqlalchemy.engine.Engine PRAGMA temp.table_info(\"users\")\n",
      "2022-05-12 16:18:38,080 INFO sqlalchemy.engine.Engine [raw sql] ()\n",
      "2022-05-12 16:18:38,081 INFO sqlalchemy.engine.Engine \n",
      "CREATE TABLE users (\n",
      "\tid INTEGER NOT NULL, \n",
      "\tname VARCHAR, \n",
      "\tfullname VARCHAR, \n",
      "\tnickname VARCHAR, \n",
      "\tPRIMARY KEY (id)\n",
      ")\n",
      "\n",
      "\n",
      "2022-05-12 16:18:38,081 INFO sqlalchemy.engine.Engine [no key 0.00024s] ()\n",
      "2022-05-12 16:18:38,082 INFO sqlalchemy.engine.Engine COMMIT\n"
     ]
    }
   ],
   "source": [
    "Base.metadata.create_all(engine)"
   ]
  },
  {
   "cell_type": "markdown",
   "id": "3bd79f9d",
   "metadata": {},
   "source": [
    "### create an instance of the mapped class"
   ]
  },
  {
   "cell_type": "code",
   "execution_count": 10,
   "id": "b452cd13",
   "metadata": {},
   "outputs": [
    {
     "data": {
      "text/plain": [
       "'ed'"
      ]
     },
     "execution_count": 10,
     "metadata": {},
     "output_type": "execute_result"
    }
   ],
   "source": [
    "ed_user = User(name='ed', fullname='Ed Jones', nickname='edsnickname')\n",
    "ed_user.name"
   ]
  },
  {
   "cell_type": "code",
   "execution_count": 11,
   "id": "716ed8fe",
   "metadata": {},
   "outputs": [
    {
     "data": {
      "text/plain": [
       "'edsnickname'"
      ]
     },
     "execution_count": 11,
     "metadata": {},
     "output_type": "execute_result"
    }
   ],
   "source": [
    "ed_user.nickname"
   ]
  },
  {
   "cell_type": "markdown",
   "id": "85ecda1e",
   "metadata": {},
   "source": [
    "### creating a session\n",
    "\n",
    "- the ORM's \"handle\" to the db is the **Session**"
   ]
  },
  {
   "cell_type": "code",
   "execution_count": 12,
   "id": "a155cdba",
   "metadata": {},
   "outputs": [],
   "source": [
    "from sqlalchemy.orm import sessionmaker\n",
    "Session = sessionmaker(bind=engine)\n",
    "session = Session()"
   ]
  },
  {
   "cell_type": "markdown",
   "id": "52ce143c",
   "metadata": {},
   "source": [
    "### adding and updating objects\n",
    "\n",
    "- to presist our User object, we add Session.add() into our Session"
   ]
  },
  {
   "cell_type": "code",
   "execution_count": 13,
   "id": "1b06ff99",
   "metadata": {},
   "outputs": [],
   "source": [
    "session.add(ed_user)"
   ]
  },
  {
   "cell_type": "code",
   "execution_count": 14,
   "id": "c69a2488",
   "metadata": {},
   "outputs": [
    {
     "name": "stdout",
     "output_type": "stream",
     "text": [
      "2022-05-12 16:18:38,100 INFO sqlalchemy.engine.Engine BEGIN (implicit)\n",
      "2022-05-12 16:18:38,102 INFO sqlalchemy.engine.Engine INSERT INTO users (name, fullname, nickname) VALUES (?, ?, ?)\n",
      "2022-05-12 16:18:38,102 INFO sqlalchemy.engine.Engine [generated in 0.00041s] ('ed', 'Ed Jones', 'edsnickname')\n",
      "2022-05-12 16:18:38,104 INFO sqlalchemy.engine.Engine SELECT users.id AS users_id, users.name AS users_name, users.fullname AS users_fullname, users.nickname AS users_nickname \n",
      "FROM users \n",
      "WHERE users.name = ?\n",
      " LIMIT ? OFFSET ?\n",
      "2022-05-12 16:18:38,105 INFO sqlalchemy.engine.Engine [generated in 0.00065s] ('ed', 1, 0)\n"
     ]
    }
   ],
   "source": [
    "our_user = session.query(User).filter_by(name='ed').first()"
   ]
  },
  {
   "cell_type": "code",
   "execution_count": 15,
   "id": "9985f2e5",
   "metadata": {},
   "outputs": [
    {
     "data": {
      "text/plain": [
       "<__main__.User at 0x7f9e409c9f40>"
      ]
     },
     "execution_count": 15,
     "metadata": {},
     "output_type": "execute_result"
    }
   ],
   "source": [
    "our_user"
   ]
  },
  {
   "cell_type": "code",
   "execution_count": 16,
   "id": "4d322a95",
   "metadata": {},
   "outputs": [
    {
     "data": {
      "text/plain": [
       "True"
      ]
     },
     "execution_count": 16,
     "metadata": {},
     "output_type": "execute_result"
    }
   ],
   "source": [
    "ed_user is our_user"
   ]
  },
  {
   "cell_type": "markdown",
   "id": "c3c63957",
   "metadata": {},
   "source": [
    "- the ORM concept at work here is known as an **identity map** and ensures that all operations upon a particular row within a ~Session~ operate upon the same set of data\n",
    "\n",
    "- once an object with a pk is present in the Session, all SQL queries on that Session will always return the same Python object for that particular pk\n",
    "\n",
    "- we can add more User objects at once using _add_all()_:"
   ]
  },
  {
   "cell_type": "code",
   "execution_count": 17,
   "id": "04e618a2",
   "metadata": {},
   "outputs": [],
   "source": [
    "session.add_all([\n",
    "    User(name='wendy', fullname='Wendy Williams', nickname='windy'),\n",
    "    User(name='mary', fullname='Mary Contrary', nickname='mary'),\n",
    "    User(name='fred', fullname='Fred Flintstone', nickname='freddy')])"
   ]
  },
  {
   "cell_type": "code",
   "execution_count": 18,
   "id": "3a018c56",
   "metadata": {},
   "outputs": [],
   "source": [
    "ed_user.nickname = 'eddie'"
   ]
  },
  {
   "cell_type": "code",
   "execution_count": 19,
   "id": "473abc0c",
   "metadata": {},
   "outputs": [
    {
     "data": {
      "text/plain": [
       "IdentitySet([<__main__.User object at 0x7f9e409c9f40>])"
      ]
     },
     "execution_count": 19,
     "metadata": {},
     "output_type": "execute_result"
    }
   ],
   "source": [
    "session.dirty"
   ]
  },
  {
   "cell_type": "code",
   "execution_count": 20,
   "id": "88132dee",
   "metadata": {},
   "outputs": [
    {
     "data": {
      "text/plain": [
       "IdentitySet([<__main__.User object at 0x7f9e40c9fd90>, <__main__.User object at 0x7f9e40c9fd60>, <__main__.User object at 0x7f9e40c9faf0>])"
      ]
     },
     "execution_count": 20,
     "metadata": {},
     "output_type": "execute_result"
    }
   ],
   "source": [
    "session.new"
   ]
  },
  {
   "cell_type": "markdown",
   "id": "b6731202",
   "metadata": {},
   "source": [
    "- we tell the **Session** that we wolud like to issue all remaining changes to the db and commit the transaction, which has been in progress throughout - **Session.commit()**\n",
    "\n",
    "- the Session emits the UPDATE  statement for the nickname change on 'ed', as well as INSERT statementsts for the three new User objects"
   ]
  },
  {
   "cell_type": "code",
   "execution_count": 21,
   "id": "0293450b",
   "metadata": {},
   "outputs": [
    {
     "name": "stdout",
     "output_type": "stream",
     "text": [
      "2022-05-12 16:18:38,128 INFO sqlalchemy.engine.Engine UPDATE users SET nickname=? WHERE users.id = ?\n",
      "2022-05-12 16:18:38,129 INFO sqlalchemy.engine.Engine [generated in 0.00079s] ('eddie', 1)\n",
      "2022-05-12 16:18:38,130 INFO sqlalchemy.engine.Engine INSERT INTO users (name, fullname, nickname) VALUES (?, ?, ?)\n",
      "2022-05-12 16:18:38,130 INFO sqlalchemy.engine.Engine [cached since 0.02835s ago] ('wendy', 'Wendy Williams', 'windy')\n",
      "2022-05-12 16:18:38,130 INFO sqlalchemy.engine.Engine INSERT INTO users (name, fullname, nickname) VALUES (?, ?, ?)\n",
      "2022-05-12 16:18:38,131 INFO sqlalchemy.engine.Engine [cached since 0.02898s ago] ('mary', 'Mary Contrary', 'mary')\n",
      "2022-05-12 16:18:38,131 INFO sqlalchemy.engine.Engine INSERT INTO users (name, fullname, nickname) VALUES (?, ?, ?)\n",
      "2022-05-12 16:18:38,131 INFO sqlalchemy.engine.Engine [cached since 0.02958s ago] ('fred', 'Fred Flintstone', 'freddy')\n",
      "2022-05-12 16:18:38,132 INFO sqlalchemy.engine.Engine COMMIT\n"
     ]
    }
   ],
   "source": [
    "session.commit()"
   ]
  },
  {
   "cell_type": "markdown",
   "id": "de6ddce0",
   "metadata": {},
   "source": [
    "- Session.commit() flushes the remaining changes to the database, and commits the transaction\n",
    "\n",
    "- the connection resources referenced by the session are now reutrned to the connection pool\n",
    "\n",
    "- subsequent operations with this session will occur in a **new** transaction, which will again re-aquire conncetion resources when first needed"
   ]
  },
  {
   "cell_type": "code",
   "execution_count": 22,
   "id": "fe97f7d5",
   "metadata": {},
   "outputs": [
    {
     "name": "stdout",
     "output_type": "stream",
     "text": [
      "2022-05-12 16:18:38,135 INFO sqlalchemy.engine.Engine BEGIN (implicit)\n",
      "2022-05-12 16:18:38,136 INFO sqlalchemy.engine.Engine SELECT users.id AS users_id, users.name AS users_name, users.fullname AS users_fullname, users.nickname AS users_nickname \n",
      "FROM users \n",
      "WHERE users.id = ?\n",
      "2022-05-12 16:18:38,137 INFO sqlalchemy.engine.Engine [generated in 0.00043s] (1,)\n"
     ]
    },
    {
     "data": {
      "text/plain": [
       "1"
      ]
     },
     "execution_count": 22,
     "metadata": {},
     "output_type": "execute_result"
    }
   ],
   "source": [
    "# look at Ed's id attribute\n",
    "ed_user.id"
   ]
  },
  {
   "cell_type": "markdown",
   "id": "2db6be0c",
   "metadata": {},
   "source": [
    "#### rolling back\n",
    "\n",
    "- since the Session works within a transaction, we can roll back changes made too."
   ]
  },
  {
   "cell_type": "code",
   "execution_count": 23,
   "id": "97cc1a21",
   "metadata": {},
   "outputs": [],
   "source": [
    "ed_user.name = 'Edwardo'"
   ]
  },
  {
   "cell_type": "code",
   "execution_count": 24,
   "id": "1c710a6b",
   "metadata": {},
   "outputs": [],
   "source": [
    "fake_user = User(name='fakeuser', fullname='Invalid', nickname='12345')\n",
    "session.add(fake_user)"
   ]
  },
  {
   "cell_type": "markdown",
   "id": "71d43a50",
   "metadata": {},
   "source": [
    "- querying the session, we can see that they are flushed into the current transaction"
   ]
  },
  {
   "cell_type": "code",
   "execution_count": 25,
   "id": "43fcc8a0",
   "metadata": {},
   "outputs": [
    {
     "name": "stdout",
     "output_type": "stream",
     "text": [
      "2022-05-12 16:18:38,147 INFO sqlalchemy.engine.Engine UPDATE users SET name=? WHERE users.id = ?\n",
      "2022-05-12 16:18:38,148 INFO sqlalchemy.engine.Engine [generated in 0.00060s] ('Edwardo', 1)\n",
      "2022-05-12 16:18:38,148 INFO sqlalchemy.engine.Engine INSERT INTO users (name, fullname, nickname) VALUES (?, ?, ?)\n",
      "2022-05-12 16:18:38,149 INFO sqlalchemy.engine.Engine [cached since 0.04708s ago] ('fakeuser', 'Invalid', '12345')\n",
      "2022-05-12 16:18:38,150 INFO sqlalchemy.engine.Engine SELECT users.id AS users_id, users.name AS users_name, users.fullname AS users_fullname, users.nickname AS users_nickname \n",
      "FROM users \n",
      "WHERE users.name IN (?, ?)\n",
      "2022-05-12 16:18:38,150 INFO sqlalchemy.engine.Engine [generated in 0.00048s] ('Edward', 'fakeuser')\n"
     ]
    },
    {
     "data": {
      "text/plain": [
       "[<__main__.User at 0x7f9e202945e0>]"
      ]
     },
     "execution_count": 25,
     "metadata": {},
     "output_type": "execute_result"
    }
   ],
   "source": [
    "session.query(User).filter(User.name.in_(['Edward', 'fakeuser'])).all()"
   ]
  },
  {
   "cell_type": "code",
   "execution_count": 26,
   "id": "6283340b",
   "metadata": {},
   "outputs": [
    {
     "name": "stdout",
     "output_type": "stream",
     "text": [
      "2022-05-12 16:18:38,154 INFO sqlalchemy.engine.Engine ROLLBACK\n"
     ]
    }
   ],
   "source": [
    "# rolling back, we can see thad ed_user's name is back to ed, and fake_user has been kicked out of the session\n",
    "session.rollback()"
   ]
  },
  {
   "cell_type": "code",
   "execution_count": 27,
   "id": "a6f0cd60",
   "metadata": {},
   "outputs": [
    {
     "name": "stdout",
     "output_type": "stream",
     "text": [
      "2022-05-12 16:18:38,158 INFO sqlalchemy.engine.Engine BEGIN (implicit)\n",
      "2022-05-12 16:18:38,158 INFO sqlalchemy.engine.Engine SELECT users.id AS users_id, users.name AS users_name, users.fullname AS users_fullname, users.nickname AS users_nickname \n",
      "FROM users \n",
      "WHERE users.id = ?\n",
      "2022-05-12 16:18:38,159 INFO sqlalchemy.engine.Engine [cached since 0.02256s ago] (1,)\n"
     ]
    },
    {
     "data": {
      "text/plain": [
       "'ed'"
      ]
     },
     "execution_count": 27,
     "metadata": {},
     "output_type": "execute_result"
    }
   ],
   "source": [
    "ed_user.name"
   ]
  },
  {
   "cell_type": "code",
   "execution_count": 28,
   "id": "9581ce63",
   "metadata": {},
   "outputs": [
    {
     "data": {
      "text/plain": [
       "False"
      ]
     },
     "execution_count": 28,
     "metadata": {},
     "output_type": "execute_result"
    }
   ],
   "source": [
    "fake_user in session"
   ]
  },
  {
   "cell_type": "markdown",
   "id": "262a2d8c",
   "metadata": {},
   "source": [
    "### querying\n",
    "\n",
    "- a **query** object is created using the **query()** method on **Session**\n",
    "\n",
    "- query() takes a variable number of arguments, which can be any combination of classes and class-instumented descriptors."
   ]
  },
  {
   "cell_type": "code",
   "execution_count": 29,
   "id": "bf10fd22",
   "metadata": {},
   "outputs": [
    {
     "name": "stdout",
     "output_type": "stream",
     "text": [
      "2022-05-12 16:28:57,200 INFO sqlalchemy.engine.Engine SELECT users.id AS users_id, users.name AS users_name, users.fullname AS users_fullname, users.nickname AS users_nickname \n",
      "FROM users ORDER BY users.id\n",
      "2022-05-12 16:28:57,203 INFO sqlalchemy.engine.Engine [generated in 0.00307s] ()\n",
      "ed Ed Jones\n",
      "wendy Wendy Williams\n",
      "mary Mary Contrary\n",
      "fred Fred Flintstone\n"
     ]
    }
   ],
   "source": [
    "for instance in session.query(User).order_by(User.id):\n",
    "    print(instance.name, instance.fullname)"
   ]
  },
  {
   "cell_type": "markdown",
   "id": "8ebd3402",
   "metadata": {},
   "source": [
    "- the Query also accepts ORM-intstrumented desctiptors as arguments\n",
    "\n",
    "- any time multiple class entities or column-based entities are expressed as arguments to the query() function, the return result is expressed as tuples"
   ]
  },
  {
   "cell_type": "code",
   "execution_count": 30,
   "id": "91942cde",
   "metadata": {},
   "outputs": [
    {
     "name": "stdout",
     "output_type": "stream",
     "text": [
      "2022-05-12 16:32:30,115 INFO sqlalchemy.engine.Engine SELECT users.name AS users_name, users.fullname AS users_fullname \n",
      "FROM users\n",
      "2022-05-12 16:32:30,118 INFO sqlalchemy.engine.Engine [generated in 0.00302s] ()\n",
      "ed Ed Jones\n",
      "wendy Wendy Williams\n",
      "mary Mary Contrary\n",
      "fred Fred Flintstone\n"
     ]
    }
   ],
   "source": [
    "for name, fullname in session.query(User.name, User.fullname):\n",
    "    print(name, fullname)"
   ]
  },
  {
   "cell_type": "code",
   "execution_count": null,
   "id": "798f7f1d",
   "metadata": {},
   "outputs": [],
   "source": []
  }
 ],
 "metadata": {
  "kernelspec": {
   "display_name": "Python 3 (ipykernel)",
   "language": "python",
   "name": "python3"
  },
  "language_info": {
   "codemirror_mode": {
    "name": "ipython",
    "version": 3
   },
   "file_extension": ".py",
   "mimetype": "text/x-python",
   "name": "python",
   "nbconvert_exporter": "python",
   "pygments_lexer": "ipython3",
   "version": "3.9.7"
  }
 },
 "nbformat": 4,
 "nbformat_minor": 5
}
